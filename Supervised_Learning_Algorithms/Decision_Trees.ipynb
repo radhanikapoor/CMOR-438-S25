{
 "cells": [
  {
   "cell_type": "code",
   "execution_count": 1,
   "metadata": {},
   "outputs": [
    {
     "ename": "InvalidParameterError",
     "evalue": "The 'feature_names' parameter of plot_tree must be an instance of 'list' or None. Got Index(['age', 'sex', 'bmi', 'children', 'region', 'charges'], dtype='object') instead.",
     "output_type": "error",
     "traceback": [
      "\u001b[0;31m---------------------------------------------------------------------------\u001b[0m",
      "\u001b[0;31mInvalidParameterError\u001b[0m                     Traceback (most recent call last)",
      "Cell \u001b[0;32mIn[1], line 64\u001b[0m\n\u001b[1;32m     62\u001b[0m \u001b[39m# Save figures\u001b[39;00m\n\u001b[1;32m     63\u001b[0m plt\u001b[39m.\u001b[39mfigure(figsize\u001b[39m=\u001b[39m(\u001b[39m16\u001b[39m, \u001b[39m8\u001b[39m))\n\u001b[0;32m---> 64\u001b[0m plot_tree(clf, feature_names\u001b[39m=\u001b[39mX_classification\u001b[39m.\u001b[39mcolumns, class_names\u001b[39m=\u001b[39m[\u001b[39m\"\u001b[39m\u001b[39mnon-smoker\u001b[39m\u001b[39m\"\u001b[39m, \u001b[39m\"\u001b[39m\u001b[39msmoker\u001b[39m\u001b[39m\"\u001b[39m], filled\u001b[39m=\u001b[39m\u001b[39mTrue\u001b[39;00m)\n\u001b[1;32m     65\u001b[0m plt\u001b[39m.\u001b[39mtitle(\u001b[39m\"\u001b[39m\u001b[39mDecision Tree for Smoker Classification\u001b[39m\u001b[39m\"\u001b[39m)\n\u001b[1;32m     66\u001b[0m plt\u001b[39m.\u001b[39mtight_layout()\n",
      "File \u001b[0;32m~/anaconda3/lib/python3.11/site-packages/sklearn/utils/_param_validation.py:201\u001b[0m, in \u001b[0;36mvalidate_params.<locals>.decorator.<locals>.wrapper\u001b[0;34m(*args, **kwargs)\u001b[0m\n\u001b[1;32m    198\u001b[0m to_ignore \u001b[39m+\u001b[39m\u001b[39m=\u001b[39m [\u001b[39m\"\u001b[39m\u001b[39mself\u001b[39m\u001b[39m\"\u001b[39m, \u001b[39m\"\u001b[39m\u001b[39mcls\u001b[39m\u001b[39m\"\u001b[39m]\n\u001b[1;32m    199\u001b[0m params \u001b[39m=\u001b[39m {k: v \u001b[39mfor\u001b[39;00m k, v \u001b[39min\u001b[39;00m params\u001b[39m.\u001b[39marguments\u001b[39m.\u001b[39mitems() \u001b[39mif\u001b[39;00m k \u001b[39mnot\u001b[39;00m \u001b[39min\u001b[39;00m to_ignore}\n\u001b[0;32m--> 201\u001b[0m validate_parameter_constraints(\n\u001b[1;32m    202\u001b[0m     parameter_constraints, params, caller_name\u001b[39m=\u001b[39mfunc\u001b[39m.\u001b[39m\u001b[39m__qualname__\u001b[39m\n\u001b[1;32m    203\u001b[0m )\n\u001b[1;32m    205\u001b[0m \u001b[39mtry\u001b[39;00m:\n\u001b[1;32m    206\u001b[0m     \u001b[39mwith\u001b[39;00m config_context(\n\u001b[1;32m    207\u001b[0m         skip_parameter_validation\u001b[39m=\u001b[39m(\n\u001b[1;32m    208\u001b[0m             prefer_skip_nested_validation \u001b[39mor\u001b[39;00m global_skip_validation\n\u001b[1;32m    209\u001b[0m         )\n\u001b[1;32m    210\u001b[0m     ):\n",
      "File \u001b[0;32m~/anaconda3/lib/python3.11/site-packages/sklearn/utils/_param_validation.py:95\u001b[0m, in \u001b[0;36mvalidate_parameter_constraints\u001b[0;34m(parameter_constraints, params, caller_name)\u001b[0m\n\u001b[1;32m     89\u001b[0m \u001b[39melse\u001b[39;00m:\n\u001b[1;32m     90\u001b[0m     constraints_str \u001b[39m=\u001b[39m (\n\u001b[1;32m     91\u001b[0m         \u001b[39mf\u001b[39m\u001b[39m\"\u001b[39m\u001b[39m{\u001b[39;00m\u001b[39m'\u001b[39m\u001b[39m, \u001b[39m\u001b[39m'\u001b[39m\u001b[39m.\u001b[39mjoin([\u001b[39mstr\u001b[39m(c)\u001b[39m \u001b[39m\u001b[39mfor\u001b[39;00m\u001b[39m \u001b[39mc\u001b[39m \u001b[39m\u001b[39min\u001b[39;00m\u001b[39m \u001b[39mconstraints[:\u001b[39m-\u001b[39m\u001b[39m1\u001b[39m]])\u001b[39m}\u001b[39;00m\u001b[39m or\u001b[39m\u001b[39m\"\u001b[39m\n\u001b[1;32m     92\u001b[0m         \u001b[39mf\u001b[39m\u001b[39m\"\u001b[39m\u001b[39m \u001b[39m\u001b[39m{\u001b[39;00mconstraints[\u001b[39m-\u001b[39m\u001b[39m1\u001b[39m]\u001b[39m}\u001b[39;00m\u001b[39m\"\u001b[39m\n\u001b[1;32m     93\u001b[0m     )\n\u001b[0;32m---> 95\u001b[0m \u001b[39mraise\u001b[39;00m InvalidParameterError(\n\u001b[1;32m     96\u001b[0m     \u001b[39mf\u001b[39m\u001b[39m\"\u001b[39m\u001b[39mThe \u001b[39m\u001b[39m{\u001b[39;00mparam_name\u001b[39m!r}\u001b[39;00m\u001b[39m parameter of \u001b[39m\u001b[39m{\u001b[39;00mcaller_name\u001b[39m}\u001b[39;00m\u001b[39m must be\u001b[39m\u001b[39m\"\u001b[39m\n\u001b[1;32m     97\u001b[0m     \u001b[39mf\u001b[39m\u001b[39m\"\u001b[39m\u001b[39m \u001b[39m\u001b[39m{\u001b[39;00mconstraints_str\u001b[39m}\u001b[39;00m\u001b[39m. Got \u001b[39m\u001b[39m{\u001b[39;00mparam_val\u001b[39m!r}\u001b[39;00m\u001b[39m instead.\u001b[39m\u001b[39m\"\u001b[39m\n\u001b[1;32m     98\u001b[0m )\n",
      "\u001b[0;31mInvalidParameterError\u001b[0m: The 'feature_names' parameter of plot_tree must be an instance of 'list' or None. Got Index(['age', 'sex', 'bmi', 'children', 'region', 'charges'], dtype='object') instead."
     ]
    },
    {
     "data": {
      "text/plain": [
       "<Figure size 1600x800 with 0 Axes>"
      ]
     },
     "metadata": {},
     "output_type": "display_data"
    }
   ],
   "source": [
    "import pandas as pd\n",
    "import matplotlib.pyplot as plt\n",
    "import seaborn as sns\n",
    "import numpy as np\n",
    "from sklearn.model_selection import train_test_split\n",
    "from sklearn.preprocessing import StandardScaler\n",
    "from sklearn.tree import DecisionTreeClassifier, DecisionTreeRegressor, plot_tree\n",
    "from sklearn.metrics import (\n",
    "    accuracy_score,\n",
    "    confusion_matrix,\n",
    "    classification_report,\n",
    "    precision_score,\n",
    "    mean_squared_error,\n",
    "    mean_absolute_error,\n",
    "    r2_score,\n",
    ")\n",
    "\n",
    "# Load dataset\n",
    "insurance = pd.read_csv(\"https://raw.githubusercontent.com/stedy/Machine-Learning-with-R-datasets/master/insurance.csv\")\n",
    "\n",
    "# Encode categorical variables\n",
    "insurance[\"sex\"] = insurance[\"sex\"].map({\"male\": 0, \"female\": 1})\n",
    "insurance[\"smoker\"] = insurance[\"smoker\"].map({\"yes\": 1, \"no\": 0})\n",
    "insurance[\"region\"] = insurance[\"region\"].astype(\"category\").cat.codes\n",
    "\n",
    "# Split features and targets\n",
    "X_classification = insurance.drop(columns=[\"smoker\"])\n",
    "y_classification = insurance[\"smoker\"]\n",
    "\n",
    "X_regression = insurance.drop(columns=[\"charges\"])\n",
    "y_regression = insurance[\"charges\"]\n",
    "\n",
    "# Normalize features for regression\n",
    "scaler = StandardScaler()\n",
    "X_regression_scaled = scaler.fit_transform(X_regression)\n",
    "\n",
    "# Split data\n",
    "Xc_train, Xc_test, yc_train, yc_test = train_test_split(X_classification, y_classification, test_size=0.2, random_state=42)\n",
    "Xr_train, Xr_test, yr_train, yr_test = train_test_split(X_regression_scaled, y_regression, test_size=0.2, random_state=42)\n",
    "\n",
    "# Train classifier\n",
    "clf = DecisionTreeClassifier(max_depth=5, random_state=42)\n",
    "clf.fit(Xc_train, yc_train)\n",
    "\n",
    "# Train regressor\n",
    "reg = DecisionTreeRegressor(max_depth=5, random_state=42)\n",
    "reg.fit(Xr_train, yr_train)\n",
    "\n",
    "# Classification predictions and metrics\n",
    "yc_pred = clf.predict(Xc_test)\n",
    "cm = confusion_matrix(yc_test, yc_pred)\n",
    "acc = accuracy_score(yc_test, yc_pred)\n",
    "report = classification_report(yc_test, yc_pred, target_names=[\"non-smoker\", \"smoker\"])\n",
    "precision = precision_score(yc_test, yc_pred)\n",
    "\n",
    "# Regression predictions and metrics\n",
    "yr_pred = reg.predict(Xr_test)\n",
    "mse = mean_squared_error(yr_test, yr_pred)\n",
    "mae = mean_absolute_error(yr_test, yr_pred)\n",
    "r2 = r2_score(yr_test, yr_pred)\n",
    "\n",
    "# Save figures\n",
    "plt.figure(figsize=(16, 8))\n",
    "plot_tree(clf, feature_names=X_classification.columns, class_names=[\"non-smoker\", \"smoker\"], filled=True)\n",
    "plt.title(\"Decision Tree for Smoker Classification\")\n",
    "plt.tight_layout()\n",
    "plt.savefig(\"/mnt/data/classification_tree.png\")\n",
    "\n",
    "plt.figure(figsize=(16, 8))\n",
    "plot_tree(reg, feature_names=X_classification.columns, filled=True)\n",
    "plt.title(\"Regression Tree for Insurance Charges\")\n",
    "plt.tight_layout()\n",
    "plt.savefig(\"/mnt/data/regression_tree.png\")\n",
    "\n",
    "# Confusion matrix heatmap\n",
    "plt.figure(figsize=(6, 5))\n",
    "sns.heatmap(cm, annot=True, fmt=\"d\", cmap=\"Blues\", xticklabels=[\"non-smoker\", \"smoker\"], yticklabels=[\"non-smoker\", \"smoker\"])\n",
    "plt.xlabel(\"Predicted\")\n",
    "plt.ylabel(\"True\")\n",
    "plt.title(\"Confusion Matrix - Smoker Classifier\")\n",
    "plt.tight_layout()\n",
    "plt.savefig(\"/mnt/data/confusion_matrix.png\")\n",
    "\n",
    "import ace_tools as tools; tools.display_dataframe_to_user(name=\"Insurance Dataset Head\", dataframe=insurance.head())\n",
    "\n",
    "{\n",
    "    \"classification_accuracy\": acc,\n",
    "    \"classification_precision\": precision,\n",
    "    \"classification_report\": report,\n",
    "    \"regression_mse\": mse,\n",
    "    \"regression_mae\": mae,\n",
    "    \"regression_r2\": r2\n",
    "}\n"
   ]
  }
 ],
 "metadata": {
  "kernelspec": {
   "display_name": "base",
   "language": "python",
   "name": "python3"
  },
  "language_info": {
   "codemirror_mode": {
    "name": "ipython",
    "version": 3
   },
   "file_extension": ".py",
   "mimetype": "text/x-python",
   "name": "python",
   "nbconvert_exporter": "python",
   "pygments_lexer": "ipython3",
   "version": "3.11.4"
  },
  "orig_nbformat": 4,
  "vscode": {
   "interpreter": {
    "hash": "da89565a5ac76f13cb63f72cd21bd9af61778649a2bd6f5fa7da00f06d8d0a8f"
   }
  }
 },
 "nbformat": 4,
 "nbformat_minor": 2
}
